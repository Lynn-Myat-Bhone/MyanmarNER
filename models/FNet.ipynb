{
 "cells": [
  {
   "cell_type": "code",
   "execution_count": null,
   "id": "ebc74ea7",
   "metadata": {
    "vscode": {
     "languageId": "plaintext"
    }
   },
   "outputs": [],
   "source": [
    "import torch\n",
    "from torch import nn\n",
    "from torch.nn import functional as F\n",
    "from torch.utils.data import Dataset,DataLoader\n",
    "import io,sys\n",
    "sys.stdout = io.TextIOWrapper(sys.stdout.buffer, encoding='utf-8')\n",
    "\n",
    "word2idx = {}\n",
    "label2idx = {}\n",
    "class CustomDataset(Dataset): \n",
    "    def __init__(self,filepath):\n",
    "        self.sentences , self.ner_tags = self.load_data(filepath)\n",
    "        \n",
    "    def load_data(self,filepath):\n",
    "        sentences, ner_tags = [],[]\n",
    "        sentence, ner_tag = [],[]\n",
    "        with open(filepath,\"r\",encoding = \"utf-8\") as f:\n",
    "            for line in f:\n",
    "                line = line.strip()\n",
    "                if line:\n",
    "                    word,_,ner = line.split(\"\\t\")\n",
    "                    sentence.append(word)\n",
    "                    ner_tag.append(ner)\n",
    "                else:\n",
    "                    if sentence:\n",
    "                        sentences.append(sentence)\n",
    "                        ner_tags.append(ner_tag)\n",
    "            return sentences,ner_tags\n",
    "                \n",
    "filepath = \"datasets/train_v5.conll\"\n",
    "\n",
    "train_data = CustomDataset(filepath)\n",
    "sentences, ner_tags = train_data.sentences, train_data.ner_tags\n",
    "\n",
    "# Print first 3 samples\n",
    "for i in range(3):\n",
    "    print(\"Sentence:\", sentences[i])\n",
    "    print(\"NER Tags:\", ner_tags[i])\n",
    "    print(\"-\" * 10)\n"
   ]
  }
 ],
 "metadata": {
  "language_info": {
   "name": "python"
  }
 },
 "nbformat": 4,
 "nbformat_minor": 5
}
