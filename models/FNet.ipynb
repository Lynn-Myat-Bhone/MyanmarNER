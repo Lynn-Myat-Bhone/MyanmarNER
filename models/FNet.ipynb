{
  "cells": [
    {
      "cell_type": "code",
      "execution_count": 2,
      "id": "N-_RXQTAqWhl",
      "metadata": {
        "id": "N-_RXQTAqWhl",
        "outputId": "de689703-e225-44bc-b9c8-549d26f2c780",
        "colab": {
          "base_uri": "https://localhost:8080/"
        },
        "id": "N-_RXQTAqWhl",
        "outputId": "d18b8086-92ad-40e0-b2c0-ed7ce97b36b2"
      },
      "outputs": [
        {
          "name": "stdout",
          "output_type": "stream",
          "text": [
            "Mounted at /content/drive\n"
          ]
        }
      ],
      "source": [
        "from google.colab import drive\n",
        "drive.mount('/content/drive')"
      ]
    },
    {
      "cell_type": "code",
      "execution_count": 3,
      "id": "ebc74ea7",
      "metadata": {
        "id": "ebc74ea7",
        "vscode": {
          "languageId": "plaintext"
        }
      },
      "outputs": [],
      "source": [
        "import torch\n",
        "from torch import nn\n",
        "from torch.nn import functional as F\n",
        "from torch.utils.data import Dataset,DataLoader"
      ]
    },
    {
      "cell_type": "code",
      "execution_count": 22,
      "id": "1DUeTjUbqMXk",
      "metadata": {
        "id": "1DUeTjUbqMXk"
      },
      "outputs": [],
      "source": [
        "class CustomDataset(Dataset):\n",
        "    def __init__(self,filepath,word2idx,tag2idx):\n",
        "        self.word2idx = word2idx\n",
        "        self.tag2idx = tag2idx\n",
        "        self.sentences , self.ner_tags = self.load_data(filepath)\n",
        "\n",
        "    def load_data(self,filepath):\n",
        "        sentences, ner_tags = [],[]\n",
        "        sentence, ner_tag = [],[]\n",
        "        with open(filepath,\"r\",encoding = \"utf-8\") as f:\n",
        "            for line in f:\n",
        "                line = line.strip()\n",
        "                if line:\n",
        "                    word,_,ner = line.split(\"\\t\")\n",
        "                    sentence.append(word)\n",
        "                    ner_tag.append(ner)\n",
        "                else:\n",
        "                    if sentence:\n",
        "                        sentences.append(sentence)\n",
        "                        ner_tags.append(ner_tag)\n",
        "                        sentence, ner_tag = [], []  # rest after every sentence\n",
        "            return sentences,ner_tags\n",
        "    def __len__(self):\n",
        "      return len(self.sentences)\n",
        "\n",
        "    def __getitem__(self, idx):\n",
        "        word_ids = [self.word2idx.get(w, self.word2idx[\"<UNK>\"]) for w in self.sentences[idx]]\n",
        "        tag_ids = [self.tag2idx.get(t, self.tag2idx[\"<UNK>\"]) for t in self.ner_tags[idx]]\n",
        "\n",
        "        return word_ids, tag_ids\n",
        "\n",
        "def collate_fn(batch):\n",
        "  sentences,tag = zip(*batch)\n",
        "  max_len = max(len(s) for s in sentences)\n",
        "  padded_sentences = [  s+ [0] * (max_len-len(s)) for s in sentences]\n",
        "  padded_tag = [ t + [0] *(max_len-len(t)) for t in tag]\n",
        "\n",
        "  return torch.tensor(padded_sentences),torch.tensor(padded_tag)"
      ],
      "metadata": {
        "id": "1DUeTjUbqMXk"
      },
      "id": "1DUeTjUbqMXk",
      "execution_count": 22,
      "outputs": []
    },
    {
      "cell_type": "markdown",
      "id": "VP9MDl5CshWD",
      "metadata": {
        "id": "VP9MDl5CshWD"
      },
      "source": [
        "Load Dataset"
      ]
    },
    {
      "cell_type": "code",
      "execution_count": 30,
      "id": "LVhMJrOhqTbL",
      "metadata": {
        "id": "LVhMJrOhqTbL"
      },
      "outputs": [],
      "source": [
        "train_path = \"/content/drive/MyDrive/Datasets/train_v5.conll\"\n",
        "val_path = \"/content/drive/MyDrive/Datasets/val_v5.conll\"\n",
        "test_path = \"/content/drive/MyDrive/Datasets/test_v5.conll\"\n",
        "word2idx = {\"<PAD>\": 0, \"<UNK>\": 1}\n",
        "tag2idx = {\"<PAD>\": 0, \"<UNK>\": 1}\n",
        "train_data = CustomDataset(train_path,word2idx, tag2idx)\n",
        "val_data = CustomDataset(val_path,word2idx, tag2idx)\n",
        "test_data = CustomDataset(test_path,word2idx, tag2idx)\n",
        "\n",
        "train_data = CustomDataset(train_path)\n",
        "val_data = CustomDataset(val_path)\n",
        "test_data = CustomDataset(test_path)\n",
        "\n",
        "train_load = DataLoader(train_data, batch_size=32, collate_fn=collate_fn)\n"
      ],
      "metadata": {
        "id": "LVhMJrOhqTbL"
      },
      "id": "LVhMJrOhqTbL",
      "execution_count": 30,
      "outputs": []
    }
  ],
  "metadata": {
    "colab": {
      "provenance": []
    },
    "kernelspec": {
      "display_name": "Python 3",
      "name": "python3"
    },
    "language_info": {
      "name": "python"
    }
  },
  "nbformat": 4,
  "nbformat_minor": 5
}
